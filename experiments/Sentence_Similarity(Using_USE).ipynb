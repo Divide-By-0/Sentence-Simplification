{
 "cells": [
  {
   "cell_type": "markdown",
   "metadata": {
    "colab_type": "text",
    "id": "LF_Gav3qoPqS"
   },
   "source": [
    "In this experiment, the cosine similarity are calculated between the sentence embeddings (produced by Universal sentence encoder) of the reference and the different ouptuts of the model."
   ]
  },
  {
   "cell_type": "markdown",
   "metadata": {
    "colab_type": "text",
    "id": "ATuw3sLuoPqU"
   },
   "source": [
    "To know more about Universal sentence encoder: https://tfhub.dev/google/universal-sentence-encoder/2"
   ]
  },
  {
   "cell_type": "code",
   "execution_count": 0,
   "metadata": {
    "colab": {},
    "colab_type": "code",
    "id": "zl5Ac6-wZftw"
   },
   "outputs": [],
   "source": [
    "!pip install --quiet \"tensorflow>=1.7\"\n",
    "!pip install --quiet tensorflow-hub"
   ]
  },
  {
   "cell_type": "code",
   "execution_count": 0,
   "metadata": {
    "colab": {},
    "colab_type": "code",
    "id": "AtExXBk2ch7-"
   },
   "outputs": [],
   "source": [
    "import tensorflow as tf\n",
    "import tensorflow_hub as hub\n",
    "import numpy as np\n",
    "import os\n",
    "import pandas as pd"
   ]
  },
  {
   "cell_type": "code",
   "execution_count": 0,
   "metadata": {
    "colab": {},
    "colab_type": "code",
    "id": "Hxyo_J58clNQ"
   },
   "outputs": [],
   "source": [
    "module_url = \"https://tfhub.dev/google/universal-sentence-encoder/2\" "
   ]
  },
  {
   "cell_type": "code",
   "execution_count": 0,
   "metadata": {
    "colab": {},
    "colab_type": "code",
    "id": "EhwQG27BcoeZ"
   },
   "outputs": [],
   "source": [
    "embed = hub.Module(module_url)"
   ]
  },
  {
   "cell_type": "code",
   "execution_count": 0,
   "metadata": {
    "colab": {},
    "colab_type": "code",
    "id": "PPAicwK4c0UI"
   },
   "outputs": [],
   "source": [
    "# Simple and complex sentence pair.\n",
    "\n",
    "s0 = \"John went to the market. On his way back he picked the children.\"\n",
    "s1 = \"John went to the market and then on his way back he picked the children.\""
   ]
  },
  {
   "cell_type": "code",
   "execution_count": 0,
   "metadata": {
    "colab": {},
    "colab_type": "code",
    "id": "-4Q5R53JoPqp"
   },
   "outputs": [],
   "source": [
    "# Missing facts in the output.\n",
    "\n",
    "s2 = \"John went to the market. On his way back he picked the children.\"\n",
    "s3 = \"John went to the market.\""
   ]
  },
  {
   "cell_type": "code",
   "execution_count": 0,
   "metadata": {
    "colab": {},
    "colab_type": "code",
    "id": "6MCy5h4loPqt"
   },
   "outputs": [],
   "source": [
    "# Repeated facts in the output.\n",
    "\n",
    "s4 = \"John went to the market. On his way back he picked the children.\"\n",
    "s5 = \"John went to the market. John went to the market. On his way back he picked the children.\""
   ]
  },
  {
   "cell_type": "code",
   "execution_count": 0,
   "metadata": {
    "colab": {},
    "colab_type": "code",
    "id": "Y8KE3uzyoPqw"
   },
   "outputs": [],
   "source": [
    "# Unsupported facts in the ouptut.\n",
    "\n",
    "s6 = \"John went to the market. On his way back he picked the children.\"\n",
    "s7 = \"John went to the market. On his way back he saw the children playing.\""
   ]
  },
  {
   "cell_type": "code",
   "execution_count": 0,
   "metadata": {
    "colab": {},
    "colab_type": "code",
    "id": "TbWeaSPYoPqz"
   },
   "outputs": [],
   "source": [
    "# Unsupported facts in the output.\n",
    "\n",
    "s8 = \"ISBM numbered 0-7653-0633-6 book is A Fortress of Grey Ice. It has 672 pages.\"\n",
    "s9 = \"J.V. Jones authored A Fortress of Grey Ice. A Fortress of Grey Ice has 672 pages.\""
   ]
  },
  {
   "cell_type": "code",
   "execution_count": 0,
   "metadata": {
    "colab": {},
    "colab_type": "code",
    "id": "Nr8Bt8k3oPq7"
   },
   "outputs": [],
   "source": [
    "# Unsupported facts in the output.\n",
    "\n",
    "s10 = \"Alan Shepard Alan Shepard Alan Shepard.\"\n",
    "s11 = \"Alan Shepard is dead. Alan Shepard was a test pilot.\""
   ]
  },
  {
   "cell_type": "code",
   "execution_count": 0,
   "metadata": {
    "colab": {},
    "colab_type": "code",
    "id": "cgePwaYloPrA"
   },
   "outputs": [],
   "source": [
    "list = [s0,s1,s2,s3,s4,s5,s6,s7,s8,s9,s10,s11]"
   ]
  },
  {
   "cell_type": "code",
   "execution_count": 0,
   "metadata": {
    "colab": {},
    "colab_type": "code",
    "id": "YH4A2r6qc6XM"
   },
   "outputs": [],
   "source": [
    "tf.logging.set_verbosity(tf.logging.ERROR)"
   ]
  },
  {
   "cell_type": "code",
   "execution_count": 0,
   "metadata": {
    "colab": {},
    "colab_type": "code",
    "id": "nM_hrPpdeIS-"
   },
   "outputs": [],
   "source": [
    "with tf.Session() as session:\n",
    "  session.run([tf.global_variables_initializer(), tf.tables_initializer()])\n",
    "  embeddings = session.run(embed(list))"
   ]
  },
  {
   "cell_type": "code",
   "execution_count": 14,
   "metadata": {
    "colab": {
     "base_uri": "https://localhost:8080/",
     "height": 35
    },
    "colab_type": "code",
    "id": "kFAz1kitjE9l",
    "outputId": "e1bea400-793d-4dcc-8c05-809d11b1a1ce"
   },
   "outputs": [
    {
     "data": {
      "text/plain": [
       "0.96173626"
      ]
     },
     "execution_count": 14,
     "metadata": {
      "tags": []
     },
     "output_type": "execute_result"
    }
   ],
   "source": [
    "# Cosine similarity of s0 and s1:\n",
    "\n",
    "result = np.inner(embeddings[0],embeddings[1])\n",
    "result"
   ]
  },
  {
   "cell_type": "code",
   "execution_count": 15,
   "metadata": {
    "colab": {
     "base_uri": "https://localhost:8080/",
     "height": 35
    },
    "colab_type": "code",
    "id": "2eIGyEljoPrR",
    "outputId": "fb1312d8-c365-423b-f43b-cb7f32aa8977"
   },
   "outputs": [
    {
     "data": {
      "text/plain": [
       "0.7515042"
      ]
     },
     "execution_count": 15,
     "metadata": {
      "tags": []
     },
     "output_type": "execute_result"
    }
   ],
   "source": [
    "# Cosine similarity of s2 and s3:\n",
    "\n",
    "result = np.inner(embeddings[2],embeddings[3])\n",
    "result"
   ]
  },
  {
   "cell_type": "code",
   "execution_count": 16,
   "metadata": {
    "colab": {
     "base_uri": "https://localhost:8080/",
     "height": 35
    },
    "colab_type": "code",
    "id": "RJMqfTwVoPrV",
    "outputId": "a4af826d-b5c5-49d4-8a0b-77a8a6d95d83"
   },
   "outputs": [
    {
     "data": {
      "text/plain": [
       "0.92579687"
      ]
     },
     "execution_count": 16,
     "metadata": {
      "tags": []
     },
     "output_type": "execute_result"
    }
   ],
   "source": [
    "# Cosine similarity of s4 and s5:\n",
    "\n",
    "result = np.inner(embeddings[4],embeddings[5])\n",
    "result"
   ]
  },
  {
   "cell_type": "code",
   "execution_count": 17,
   "metadata": {
    "colab": {
     "base_uri": "https://localhost:8080/",
     "height": 35
    },
    "colab_type": "code",
    "id": "cRGuzypAoPrb",
    "outputId": "0da54d8c-5b7b-40dc-ceb6-39caca4d1310"
   },
   "outputs": [
    {
     "data": {
      "text/plain": [
       "0.81640744"
      ]
     },
     "execution_count": 17,
     "metadata": {
      "tags": []
     },
     "output_type": "execute_result"
    }
   ],
   "source": [
    "# Cosine similarity of s6 and s7:\n",
    "\n",
    "result = np.inner(embeddings[6],embeddings[7])\n",
    "result"
   ]
  },
  {
   "cell_type": "code",
   "execution_count": 18,
   "metadata": {
    "colab": {
     "base_uri": "https://localhost:8080/",
     "height": 35
    },
    "colab_type": "code",
    "id": "ctPmGcakoPre",
    "outputId": "abe0cc0a-61cb-4628-ae13-1cd8aa8cafe9"
   },
   "outputs": [
    {
     "data": {
      "text/plain": [
       "0.5901096"
      ]
     },
     "execution_count": 18,
     "metadata": {
      "tags": []
     },
     "output_type": "execute_result"
    }
   ],
   "source": [
    "# Cosine similarity of s8 and s9:\n",
    "\n",
    "result = np.inner(embeddings[8],embeddings[9])\n",
    "result"
   ]
  },
  {
   "cell_type": "code",
   "execution_count": 19,
   "metadata": {
    "colab": {
     "base_uri": "https://localhost:8080/",
     "height": 35
    },
    "colab_type": "code",
    "id": "c15a-HQDoPri",
    "outputId": "e9f2b781-0adb-448f-e3c6-fb3962935837"
   },
   "outputs": [
    {
     "data": {
      "text/plain": [
       "0.77303934"
      ]
     },
     "execution_count": 19,
     "metadata": {
      "tags": []
     },
     "output_type": "execute_result"
    }
   ],
   "source": [
    "# Cosine similarity of s10 and s11:\n",
    "\n",
    "result = np.inner(embeddings[10],embeddings[11])\n",
    "result"
   ]
  }
 ],
 "metadata": {
  "colab": {
   "collapsed_sections": [],
   "name": "Sentence_Similarity(Using_USE).ipynb",
   "provenance": [],
   "version": "0.3.2"
  },
  "kernelspec": {
   "display_name": "Python 2",
   "language": "python",
   "name": "python2"
  },
  "language_info": {
   "codemirror_mode": {
    "name": "ipython",
    "version": 2
   },
   "file_extension": ".py",
   "mimetype": "text/x-python",
   "name": "python",
   "nbconvert_exporter": "python",
   "pygments_lexer": "ipython2",
   "version": "2.7.15+"
  }
 },
 "nbformat": 4,
 "nbformat_minor": 1
}
