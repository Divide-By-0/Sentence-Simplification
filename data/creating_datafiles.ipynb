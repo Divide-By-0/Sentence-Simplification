{
 "cells": [
  {
   "cell_type": "markdown",
   "metadata": {},
   "source": [
    "If you downlaod the data from https://github.com/google-research-datasets/wiki-split, use this code to get the source and target files for training, validation and testing."
   ]
  },
  {
   "cell_type": "code",
   "execution_count": 1,
   "metadata": {},
   "outputs": [],
   "source": [
    "import pandas as pd"
   ]
  },
  {
   "cell_type": "code",
   "execution_count": 2,
   "metadata": {},
   "outputs": [],
   "source": [
    "tsv_file = 'train.tsv'\n",
    "train = pd.read_csv(tsv_file,sep='\\t',header=None)\n",
    "train_complex = train.iloc[:,0]\n",
    "train_simple = train.iloc[:,1]"
   ]
  },
  {
   "cell_type": "code",
   "execution_count": 3,
   "metadata": {},
   "outputs": [],
   "source": [
    "tsv_file = 'validation.tsv'\n",
    "validation = pd.read_csv(tsv_file,sep='\\t',header=None)\n",
    "validation_complex = validation.iloc[:,0]\n",
    "validation_simple = validation.iloc[:,1]"
   ]
  },
  {
   "cell_type": "code",
   "execution_count": 4,
   "metadata": {},
   "outputs": [],
   "source": [
    "tsv_file = 'test.tsv'\n",
    "test = pd.read_csv(tsv_file,sep='\\t',header=None)\n",
    "test_complex = test.iloc[:,0]\n",
    "test_simple = test.iloc[:,1]"
   ]
  },
  {
   "cell_type": "code",
   "execution_count": 5,
   "metadata": {},
   "outputs": [],
   "source": [
    "# Apppend the path of the destination folder in r'' \n",
    "\n",
    "train_complex.to_csv(r'train.complex', header=False, index=None, sep='\\n', mode='a')\n",
    "train_simple.to_csv(r'train.simple', header=False, index=None, sep='\\n', mode='a')\n",
    "validation_complex.to_csv(r'validation.complex', header=False, index=None, sep='\\n', mode='a')\n",
    "validation_simple.to_csv(r'validation.simple', header=False, index=None, sep='\\n', mode='a')\n",
    "test_complex.to_csv(r'test.complex', header=False, index=None, sep='\\n', mode='a')\n",
    "test_simple.to_csv(r'test.simple', header=False, index=None, sep='\\n', mode='a')"
   ]
  }
 ],
 "metadata": {
  "kernelspec": {
   "display_name": "Python 2",
   "language": "python",
   "name": "python2"
  },
  "language_info": {
   "codemirror_mode": {
    "name": "ipython",
    "version": 2
   },
   "file_extension": ".py",
   "mimetype": "text/x-python",
   "name": "python",
   "nbconvert_exporter": "python",
   "pygments_lexer": "ipython2",
   "version": "2.7.15+"
  }
 },
 "nbformat": 4,
 "nbformat_minor": 4
}
